{
 "cells": [
  {
   "cell_type": "code",
   "execution_count": 39,
   "id": "691e9fd7-413d-4151-8bcb-86225adb9f08",
   "metadata": {},
   "outputs": [
    {
     "name": "stderr",
     "output_type": "stream",
     "text": [
      "[nltk_data] Downloading package punkt to\n",
      "[nltk_data]     C:\\Users\\hp\\AppData\\Roaming\\nltk_data...\n",
      "[nltk_data]   Unzipping tokenizers\\punkt.zip.\n"
     ]
    }
   ],
   "source": [
    "# Import the required libraries\n",
    "import pandas as pd\n",
    "import numpy as np\n",
    "import matplotlib.pyplot as plt\n",
    "import seaborn as sns\n",
    "import re\n",
    "from bs4 import BeautifulSoup # remove HTML tags\n",
    "\n",
    "# tokenization\n",
    "import nltk\n",
    "from nltk.tokenize import word_tokenize\n",
    "nltk.download(\"punkt\") # Download necessary datasets for tokenization\n",
    "\n",
    "# feature extraction\n",
    "from sklearn.feature_extraction.text import TfidfVectorizer"
   ]
  },
  {
   "cell_type": "code",
   "execution_count": 9,
   "id": "308758d1-f319-4fd6-892d-be3e87694064",
   "metadata": {},
   "outputs": [
    {
     "name": "stdout",
     "output_type": "stream",
     "text": [
      "                                                text label\n",
      "0            Subject: christmas tree farm pictures\\n   ham\n",
      "1  Subject: vastar resources , inc .\\ngary , prod...   ham\n",
      "2  Subject: calpine daily gas nomination\\n- calpi...   ham\n",
      "3  Subject: re : issue\\nfyi - see note below - al...   ham\n",
      "4  Subject: meter 7268 nov allocation\\nfyi .\\n- -...   ham\n"
     ]
    }
   ],
   "source": [
    "# Load csv file into a dataframe\n",
    "df = pd.read_csv(\"emails_dataset.csv\", encoding=\"utf-8\")\n",
    "\n",
    "print(df.head())"
   ]
  },
  {
   "cell_type": "code",
   "execution_count": 11,
   "id": "13863cb3-76c4-4a95-b4f7-56bf058b022e",
   "metadata": {},
   "outputs": [
    {
     "name": "stdout",
     "output_type": "stream",
     "text": [
      "<class 'pandas.core.frame.DataFrame'>\n",
      "RangeIndex: 33715 entries, 0 to 33714\n",
      "Data columns (total 2 columns):\n",
      " #   Column  Non-Null Count  Dtype \n",
      "---  ------  --------------  ----- \n",
      " 0   text    33715 non-null  object\n",
      " 1   label   33715 non-null  object\n",
      "dtypes: object(2)\n",
      "memory usage: 526.9+ KB\n",
      "None\n"
     ]
    }
   ],
   "source": [
    "# check no of rows, columns, and data types\n",
    "print(df.info())"
   ]
  },
  {
   "cell_type": "code",
   "execution_count": 13,
   "id": "9e76d9c4-8042-4783-9574-6096920c4ccf",
   "metadata": {},
   "outputs": [
    {
     "name": "stdout",
     "output_type": "stream",
     "text": [
      "text     0\n",
      "label    0\n",
      "dtype: int64\n"
     ]
    }
   ],
   "source": [
    "# check for missing values\n",
    "print(df.isnull().sum())"
   ]
  },
  {
   "cell_type": "code",
   "execution_count": 15,
   "id": "bfda7860-cff4-471e-9705-3e4592e4a512",
   "metadata": {},
   "outputs": [
    {
     "name": "stdout",
     "output_type": "stream",
     "text": [
      "Duplicate rows: 3222\n"
     ]
    }
   ],
   "source": [
    "# check for duplicates\n",
    "print(f\"Duplicate rows: {df.duplicated().sum()}\")"
   ]
  },
  {
   "cell_type": "code",
   "execution_count": 17,
   "id": "845c6dcb-308d-437c-a8a4-3e75b83d259e",
   "metadata": {},
   "outputs": [
    {
     "name": "stdout",
     "output_type": "stream",
     "text": [
      "               text  label\n",
      "count         33715  33715\n",
      "unique        30493      2\n",
      "top     Subject: \\n   spam\n",
      "freq             51  17170\n",
      "               text  label\n",
      "count         33715  33715\n",
      "unique        30493      2\n",
      "top     Subject: \\n   spam\n",
      "freq             51  17170\n"
     ]
    }
   ],
   "source": [
    "# summary statistics for numerical columns\n",
    "print(df.describe())\n",
    "\n",
    "# Summary statistics for categorical columns (unique values)\n",
    "print(df.describe(include=\"object\"))"
   ]
  },
  {
   "cell_type": "code",
   "execution_count": 19,
   "id": "b9b0b7ec-2b09-48cd-9f30-d72a737cfbd9",
   "metadata": {},
   "outputs": [
    {
     "name": "stdout",
     "output_type": "stream",
     "text": [
      "label\n",
      "spam    17170\n",
      "ham     16545\n",
      "Name: count, dtype: int64\n"
     ]
    },
    {
     "data": {
      "image/png": "[encoded data removed]",
      "text/plain": [
       "<Figure size 600x400 with 1 Axes>"
      ]
     },
     "metadata": {},
     "output_type": "display_data"
    }
   ],
   "source": [
    "# Check class distribution\n",
    "print(df[\"label\"].value_counts())\n",
    "\n",
    "plt.figure(figsize=(6,4))\n",
    "sns.countplot(x=df[\"label\"])\n",
    "plt.title(\"Class Distribution (Spam vs. Ham)\")\n",
    "plt.xlabel(\"Email Type\")\n",
    "plt.ylabel(\"Count\")\n",
    "plt.show()"
   ]
  },
  {
   "cell_type": "code",
   "execution_count": 21,
   "id": "e87e4e40-8cd9-4843-afb4-a02344a360a1",
   "metadata": {},
   "outputs": [
    {
     "name": "stdout",
     "output_type": "stream",
     "text": [
      "Remaining duplicate rows: 0\n",
      "New dataset size: (30493, 2)\n",
      "text     0\n",
      "label    0\n",
      "dtype: int64\n",
      "<class 'pandas.core.frame.DataFrame'>\n",
      "RangeIndex: 30493 entries, 0 to 30492\n",
      "Data columns (total 2 columns):\n",
      " #   Column  Non-Null Count  Dtype \n",
      "---  ------  --------------  ----- \n",
      " 0   text    30493 non-null  object\n",
      " 1   label   30493 non-null  object\n",
      "dtypes: object(2)\n",
      "memory usage: 476.6+ KB\n",
      "None\n",
      "label\n",
      "ham     15910\n",
      "spam    14583\n",
      "Name: count, dtype: int64\n"
     ]
    }
   ],
   "source": [
    "# STEP 2 -> REMOVE DUPLICATE ENTRIES\n",
    "df = df.drop_duplicates().reset_index(drop=True)\n",
    "\n",
    "print(f\"Remaining duplicate rows: {df.duplicated().sum()}\")\n",
    "print(f\"New dataset size: {df.shape}\")\n",
    "\n",
    "print(df.isnull().sum())\n",
    "\n",
    "# check new data structure\n",
    "print(df.info())\n",
    "\n",
    "# confirm class distribution\n",
    "print(df['label'].value_counts())"
   ]
  },
  {
   "cell_type": "code",
   "execution_count": 23,
   "id": "6f03b6e9-2f3d-4c32-a2f9-a2165e95620b",
   "metadata": {},
   "outputs": [
    {
     "name": "stdout",
     "output_type": "stream",
     "text": [
      "0                subject: christmas tree farm pictures\n",
      "1    subject: vastar resources , inc . gary , produ...\n",
      "2    subject: calpine daily gas nomination - calpin...\n",
      "3    subject: re : issue fyi - see note below - alr...\n",
      "4    subject: meter 7268 nov allocation fyi . - - -...\n",
      "Name: text, dtype: object\n"
     ]
    }
   ],
   "source": [
    "# STEP 3 STANDARDIZE TEXT FORMAT\n",
    "df['text'] = df['text'].str.lower()\n",
    "\n",
    "# remoce excess spaces and line breaks\n",
    "df['text'] = df['text'].apply(lambda x: re.sub(r\"\\s+\", \" \", x).strip())\n",
    "\n",
    "print(df['text'].head(5))"
   ]
  },
  {
   "cell_type": "code",
   "execution_count": 25,
   "id": "f7668e83-75a5-48b9-bdec-f719ae1454b8",
   "metadata": {},
   "outputs": [
    {
     "name": "stdout",
     "output_type": "stream",
     "text": [
      "0                 subject christmas tree farm pictures\n",
      "1    subject vastar resources  inc  gary  productio...\n",
      "2    subject calpine daily gas nomination  calpine ...\n",
      "3    subject re  issue fyi  see note below  already...\n",
      "4    subject meter  nov allocation fyi             ...\n",
      "Name: text, dtype: object\n"
     ]
    }
   ],
   "source": [
    "# STEP 4 -> Remove unnecessary elements\n",
    "# remove html tags\n",
    "def remove_html(text):\n",
    "    # Check if the text contains HTML tags\n",
    "    if '<' in text and '>' in text:\n",
    "        return BeautifulSoup(text, \"html.parser\").get_text()\n",
    "    else:\n",
    "        # Return the text as-is if it doesn't contain HTML\n",
    "        return text\n",
    "\n",
    "df['text'] = df['text'].apply(remove_html)\n",
    "\n",
    "# remove URLS\n",
    "def remove_urls(text):\n",
    "    return re.sub(r\"http\\S+|www\\S+|https\\S+\", \"\", text, flags=re.MULTILINE)\n",
    "    \n",
    "df['text'] = df['text'].apply(remove_urls)\n",
    "\n",
    "# remove EMAIL ADDRESSES\n",
    "def remove_emails(text):\n",
    "    return re.sub(r\"\\b[A-Za-z0-9._%+-]+@[A-Za-z0-9.-]+\\.[A-Z|a-z]{2,}\\b\", \"\", text)\n",
    "\n",
    "df[\"text\"] = df[\"text\"].apply(remove_emails)\n",
    "\n",
    "# remove Special characters, numbers and punctuation\n",
    "def remove_special_chars(text):\n",
    "    return re.sub(r\"[^a-zA-Z\\s]\", \"\", text)\n",
    "\n",
    "df['text'] = df['text'].apply(remove_special_chars)\n",
    "\n",
    "print(df['text'].head(5))"
   ]
  },
  {
   "cell_type": "code",
   "execution_count": 41,
   "id": "52c993e6-95e3-494e-8f7f-d9590c882ac6",
   "metadata": {},
   "outputs": [
    {
     "name": "stderr",
     "output_type": "stream",
     "text": [
      "[nltk_data] Downloading package stopwords to\n",
      "[nltk_data]     C:\\Users\\hp\\AppData\\Roaming\\nltk_data...\n",
      "[nltk_data]   Unzipping corpora\\stopwords.zip.\n"
     ]
    },
    {
     "name": "stdout",
     "output_type": "stream",
     "text": [
      "0           [subject, christmas, tree, farm, pictures]\n",
      "1    [subject, vastar, resources, inc, gary, produc...\n",
      "2    [subject, calpine, daily, gas, nomination, cal...\n",
      "3    [subject, issue, fyi, see, note, already, done...\n",
      "4    [subject, meter, nov, allocation, fyi, forward...\n",
      "Name: text, dtype: object\n"
     ]
    }
   ],
   "source": [
    "# STEP 5 -> TOKENIZATION & STOP WORDS REMOVAL\n",
    "df['text'] = df['text'].apply(word_tokenize)\n",
    "\n",
    "# remove stop words\n",
    "from nltk.corpus import stopwords\n",
    "nltk.download(\"stopwords\")\n",
    "stop_words = set(stopwords.words(\"english\"))\n",
    "\n",
    "df['text'] = df['text'].apply(lambda words: [word for word in words if word not in stop_words])\n",
    "\n",
    "print(df[\"text\"].head(5))"
   ]
  },
  {
   "cell_type": "code",
   "execution_count": 45,
   "id": "11a9c0af-f6ef-4de6-86ad-14673f9448c5",
   "metadata": {},
   "outputs": [
    {
     "name": "stderr",
     "output_type": "stream",
     "text": [
      "[nltk_data] Downloading package averaged_perceptron_tagger to\n",
      "[nltk_data]     C:\\Users\\hp\\AppData\\Roaming\\nltk_data...\n",
      "[nltk_data]   Package averaged_perceptron_tagger is already up-to-\n",
      "[nltk_data]       date!\n",
      "[nltk_data] Downloading package wordnet to\n",
      "[nltk_data]     C:\\Users\\hp\\AppData\\Roaming\\nltk_data...\n",
      "[nltk_data]   Package wordnet is already up-to-date!\n",
      "[nltk_data] Downloading package omw-1.4 to\n",
      "[nltk_data]     C:\\Users\\hp\\AppData\\Roaming\\nltk_data...\n",
      "[nltk_data]   Package omw-1.4 is already up-to-date!\n"
     ]
    },
    {
     "name": "stdout",
     "output_type": "stream",
     "text": [
      "0                  subject christmas tree farm picture\n",
      "1    subject vastar resource inc gary production hi...\n",
      "2    subject calpine daily gas nomination calpine d...\n",
      "3    subject issue fyi see note already do stella f...\n",
      "4    subject meter nov allocation fyi forward lauri...\n",
      "Name: text, dtype: object\n"
     ]
    }
   ],
   "source": [
    "from nltk.stem import WordNetLemmatizer\n",
    "from nltk.corpus import wordnet\n",
    "from nltk.tokenize import word_tokenize\n",
    "from nltk import pos_tag\n",
    "import nltk\n",
    "\n",
    "nltk.download(\"averaged_perceptron_tagger\")\n",
    "nltk.download(\"wordnet\")\n",
    "nltk.download(\"omw-1.4\")\n",
    "\n",
    "lemmatizer = WordNetLemmatizer()\n",
    "\n",
    "# Function to convert NLTK POS tags to WordNet POS tags\n",
    "def get_wordnet_pos(tag):\n",
    "    if tag.startswith('J'):\n",
    "        return wordnet.ADJ  # Adjective\n",
    "    elif tag.startswith('V'):\n",
    "        return wordnet.VERB  # Verb\n",
    "    elif tag.startswith('N'):\n",
    "        return wordnet.NOUN  # Noun\n",
    "    elif tag.startswith('R'):\n",
    "        return wordnet.ADV  # Adverb\n",
    "    else:\n",
    "        return wordnet.NOUN  # Default to noun\n",
    "\n",
    "# Apply lemmatization with POS tagging\n",
    "def lemmatize_text(text):\n",
    "    if isinstance(text, list):\n",
    "        text = ' '.join(text)  # Join list into a string\n",
    "    \n",
    "    words = word_tokenize(text)\n",
    "    pos_tags = pos_tag(words)\n",
    "    lemmatized_words = [lemmatizer.lemmatize(word, get_wordnet_pos(tag)) for word, tag in pos_tags]\n",
    "    return \" \".join(lemmatized_words)  # into a sentence\n",
    "\n",
    "df['text'] = df['text'].apply(lemmatize_text)\n",
    "\n",
    "# Check the results\n",
    "print(df['text'].head(5))"
   ]
  },
  {
   "cell_type": "code",
   "execution_count": 47,
   "id": "0dd8f56a-f478-4d75-951f-5dd303c22d8e",
   "metadata": {},
   "outputs": [
    {
     "name": "stdout",
     "output_type": "stream",
     "text": [
      "(30493, 10000)\n"
     ]
    }
   ],
   "source": [
    "# STEP 7 -> FEATURE EXTRACTION (APPLY TF-IDF)\n",
    "\n",
    "tfidf = TfidfVectorizer(\n",
    "    ngram_range=(1,2),    # Unigrams + Bigrams  \n",
    "    max_features=10000,   # Limit vocabulary  \n",
    "    max_df=0.95,          # Remove words in >95% of docs  \n",
    "    min_df=5,             # Remove words in <5 docs  \n",
    "    stop_words='english', # Remove common words  \n",
    "    sublinear_tf=True     # Normalize word frequency  \n",
    ")\n",
    "\n",
    "# convert text to numerical features\n",
    "X = tfidf.fit_transform(df['text'])\n",
    "\n",
    "print(X.shape)"
   ]
  },
  {
   "cell_type": "code",
   "execution_count": 55,
   "id": "cc70a547-fb42-43aa-8da4-bfcfc59de0d9",
   "metadata": {},
   "outputs": [
    {
     "name": "stdout",
     "output_type": "stream",
     "text": [
      "Training Set: (24394, 10000) (24394,)\n",
      "Testing Set: (6099, 10000) (6099,)\n"
     ]
    }
   ],
   "source": [
    "# STEP 8 -> Train-Test Split\n",
    "from sklearn.model_selection import train_test_split\n",
    "\n",
    "X_train, X_test, y_train, y_test = train_test_split(X, df['label'], test_size=0.2, random_state=42, stratify=df['label'])\n",
    "\n",
    "# check the split\n",
    "print(\"Training Set:\", X_train.shape, y_train.shape)\n",
    "print(\"Testing Set:\", X_test.shape, y_test.shape)"
   ]
  },
  {
   "cell_type": "code",
   "execution_count": 57,
   "id": "4fd3696a-0959-4e2b-b05b-f70dc0349e2e",
   "metadata": {},
   "outputs": [
    {
     "name": "stdout",
     "output_type": "stream",
     "text": [
      "text     0\n",
      "label    0\n",
      "dtype: int64\n",
      "Final dataset shape: (30493, 2)\n",
      "label\n",
      "ham     15910\n",
      "spam    14583\n",
      "Name: count, dtype: int64\n",
      "✅ Cleaned dataset saved successfully!\n"
     ]
    }
   ],
   "source": [
    "# STEP 9 -> FINAL CHECKS\n",
    "print(df.isnull().sum())\n",
    "\n",
    "print(\"Final dataset shape:\", df.shape)\n",
    "\n",
    "print(df['label'].value_counts())\n",
    "\n",
    "# save cleaned dataset to csv\n",
    "df.to_csv(\"clean_email_dataset.csv\", index=False)\n",
    "print(\"✅ Cleaned dataset saved successfully!\")"
   ]
  }
 ],
 "metadata": {
  "kernelspec": {
   "display_name": "Python 3 (ipykernel)",
   "language": "python",
   "name": "python3"
  },
  "language_info": {
   "codemirror_mode": {
    "name": "ipython",
    "version": 3
   },
   "file_extension": ".py",
   "mimetype": "text/x-python",
   "name": "python",
   "nbconvert_exporter": "python",
   "pygments_lexer": "ipython3",
   "version": "3.11.5"
  }
 },
 "nbformat": 4,
 "nbformat_minor": 5
}
